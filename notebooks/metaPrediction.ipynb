{
 "cells": [
  {
   "cell_type": "code",
   "execution_count": 1,
   "metadata": {},
   "outputs": [],
   "source": [
    "import metaPrediction\n",
    "import pandas as pd\n",
    "import numpy as np\n",
    "from sklearn.model_selection import GridSearchCV\n",
    "\n",
    "%load_ext autoreload\n",
    "%autoreload 2"
   ]
  },
  {
   "cell_type": "code",
   "execution_count": 21,
   "metadata": {
    "scrolled": false
   },
   "outputs": [
    {
     "name": "stdout",
     "output_type": "stream",
     "text": [
      "/datasets/dsc180a-wi20-public/Malware/group_data/group_01/metapath_corpus/meta_ABA.cor /datasets/dsc180a-wi20-public/Malware/group_data/group_01/metapath_corpus/meta_ABA_tst.cor\n",
      "changed\n",
      "Creating model...\n"
     ]
    },
    {
     "name": "stderr",
     "output_type": "stream",
     "text": [
      "100%|██████████| 2670000/2670000 [00:04<00:00, 651843.90it/s]\n",
      "100%|██████████| 2670000/2670000 [00:28<00:00, 94659.02it/s] \n",
      "100%|██████████| 2670000/2670000 [00:29<00:00, 91572.21it/s] \n",
      "100%|██████████| 2670000/2670000 [00:26<00:00, 100558.92it/s]\n",
      "100%|██████████| 2670000/2670000 [00:26<00:00, 99542.47it/s] \n",
      "100%|██████████| 2670000/2670000 [00:26<00:00, 101947.16it/s]\n"
     ]
    },
    {
     "name": "stdout",
     "output_type": "stream",
     "text": [
      "Selecting best parameters...\n",
      "{'C': 10000, 'degree': 2, 'kernel': 'poly'}\n",
      "Training...\n",
      "train_acc:  0.9863636363636363\n",
      "test_acc:  0.9595505617977528\n",
      "tn fp fn tp\n",
      "653 18 36 628\n",
      "\n",
      "CPU times: user 5min 26s, sys: 21.5 s, total: 5min 48s\n",
      "Wall time: 2min 31s\n"
     ]
    },
    {
     "data": {
      "text/plain": [
       "(<gensim.models.word2vec.Word2Vec at 0x7facf324f908>, app_0        True\n",
       " app_1       False\n",
       " app_2        True\n",
       " app_3        True\n",
       " app_4       False\n",
       "             ...  \n",
       " app_1095    False\n",
       " app_1096    False\n",
       " app_1097    False\n",
       " app_1098    False\n",
       " app_1099    False\n",
       " Name: label, Length: 1100, dtype: bool, app_1335     True\n",
       " app_1336    False\n",
       " app_1337     True\n",
       " app_1338     True\n",
       " app_1339    False\n",
       "             ...  \n",
       " app_2665     True\n",
       " app_2666    False\n",
       " app_2667     True\n",
       " app_2668     True\n",
       " app_2669     True\n",
       " Name: label, Length: 1335, dtype: bool, array([[-0.13689648,  0.25233045,  0.01617931, ..., -0.09657965,\n",
       "          0.0667163 ,  0.46439707],\n",
       "        [ 0.17738356,  0.18055493,  0.15666243, ..., -0.18129231,\n",
       "          0.02365661,  0.31118   ],\n",
       "        [ 0.2262125 ,  0.30968386,  0.1557251 , ..., -0.21081094,\n",
       "          0.32072893,  0.3882694 ],\n",
       "        ...,\n",
       "        [ 0.2606471 ,  0.10313687,  0.2730774 , ..., -0.1610374 ,\n",
       "          0.07924417,  0.2643772 ],\n",
       "        [ 0.33316922,  0.06170933,  0.0222152 , ..., -0.12058065,\n",
       "          0.1785723 ,  0.35950646],\n",
       "        [ 0.3263263 , -0.10023841,  0.28208917, ...,  0.02200871,\n",
       "          0.19289286,  0.36877182]], dtype=float32), array([[-0.761789  , -0.18187602,  0.6265285 , ..., -0.47461975,\n",
       "          0.12438264,  0.35964772],\n",
       "        [ 0.25529447, -0.27904037,  0.47524267, ...,  0.00696484,\n",
       "          0.1680457 ,  0.48493692],\n",
       "        [-0.0718732 , -0.26472992,  0.7947234 , ...,  0.18331264,\n",
       "          0.2086402 ,  0.38545772],\n",
       "        ...,\n",
       "        [-0.0498381 ,  0.07781752,  0.11032312, ..., -0.47360823,\n",
       "          0.5772439 , -0.0379371 ],\n",
       "        [-0.49375767,  0.1374722 ,  0.64669746, ..., -0.4829259 ,\n",
       "          0.21014592,  0.44380984],\n",
       "        [-0.52052337,  0.12042496,  0.7266249 , ..., -0.6023787 ,\n",
       "          0.25422245,  0.47606778]], dtype=float32), array([ True, False,  True, ...,  True,  True,  True]), SVC(C=10000, cache_size=200, class_weight=None, coef0=0.0,\n",
       "     decision_function_shape='ovr', degree=2, gamma='auto', kernel='poly',\n",
       "     max_iter=-1, probability=False, random_state=None, shrinking=True,\n",
       "     tol=0.001, verbose=False))"
      ]
     },
     "execution_count": 21,
     "metadata": {},
     "output_type": "execute_result"
    }
   ],
   "source": [
    "%%time\n",
    "metaPrediction.prediction('ABA')"
   ]
  },
  {
   "cell_type": "code",
   "execution_count": 2,
   "metadata": {
    "scrolled": false
   },
   "outputs": [
    {
     "name": "stdout",
     "output_type": "stream",
     "text": [
      "AA\n",
      "/datasets/dsc180a-wi20-public/Malware/group_data/group_01/metapath_corpus/meta_AA.cor /datasets/dsc180a-wi20-public/Malware/group_data/group_01/metapath_corpus/meta_AA_tst.cor\n",
      "changed\n"
     ]
    },
    {
     "name": "stderr",
     "output_type": "stream",
     "text": [
      "unable to import 'smart_open.gcs', disabling that module\n"
     ]
    },
    {
     "name": "stdout",
     "output_type": "stream",
     "text": [
      "Creating model...\n"
     ]
    },
    {
     "name": "stderr",
     "output_type": "stream",
     "text": [
      "100%|██████████| 2670000/2670000 [00:03<00:00, 690021.59it/s]\n",
      "100%|██████████| 2670000/2670000 [00:18<00:00, 141396.81it/s]\n",
      "100%|██████████| 2670000/2670000 [00:19<00:00, 139480.28it/s]\n",
      "100%|██████████| 2670000/2670000 [00:18<00:00, 143218.29it/s]\n",
      "100%|██████████| 2670000/2670000 [00:19<00:00, 139685.07it/s]\n",
      "100%|██████████| 2670000/2670000 [00:18<00:00, 140577.60it/s]\n"
     ]
    },
    {
     "name": "stdout",
     "output_type": "stream",
     "text": [
      "Selecting best parameters...\n",
      "{'C': 1000, 'degree': 2, 'kernel': 'poly'}\n",
      "Training...\n",
      "train_acc:  0.9736363636363636\n",
      "test_acc:  0.947565543071161\n",
      "tn fp fn tp\n",
      "644 27 43 621\n",
      "\n",
      "ABA\n",
      "/datasets/dsc180a-wi20-public/Malware/group_data/group_01/metapath_corpus/meta_ABA.cor /datasets/dsc180a-wi20-public/Malware/group_data/group_01/metapath_corpus/meta_ABA_tst.cor\n",
      "changed\n",
      "Creating model...\n"
     ]
    },
    {
     "name": "stderr",
     "output_type": "stream",
     "text": [
      "100%|██████████| 2670000/2670000 [00:04<00:00, 558253.99it/s]\n",
      "100%|██████████| 2670000/2670000 [00:22<00:00, 120612.20it/s]\n",
      "100%|██████████| 2670000/2670000 [00:21<00:00, 124002.67it/s]\n",
      "100%|██████████| 2670000/2670000 [00:22<00:00, 120987.42it/s]\n",
      "100%|██████████| 2670000/2670000 [00:22<00:00, 120945.99it/s]\n",
      "100%|██████████| 2670000/2670000 [00:21<00:00, 121642.39it/s]\n"
     ]
    },
    {
     "name": "stdout",
     "output_type": "stream",
     "text": [
      "Selecting best parameters...\n",
      "{'C': 10000, 'degree': 2, 'kernel': 'poly'}\n",
      "Training...\n",
      "train_acc:  0.9863636363636363\n",
      "test_acc:  0.9632958801498127\n",
      "tn fp fn tp\n",
      "656 15 34 630\n",
      "\n",
      "APA\n",
      "/datasets/dsc180a-wi20-public/Malware/group_data/group_01/metapath_corpus/meta_APA.cor /datasets/dsc180a-wi20-public/Malware/group_data/group_01/metapath_corpus/meta_APA_tst.cor\n",
      "changed\n",
      "Creating model...\n"
     ]
    },
    {
     "name": "stderr",
     "output_type": "stream",
     "text": [
      "100%|██████████| 2670000/2670000 [00:04<00:00, 642354.46it/s]\n",
      "100%|██████████| 2670000/2670000 [00:24<00:00, 107392.08it/s]\n",
      "100%|██████████| 2670000/2670000 [00:22<00:00, 116468.73it/s]\n",
      "100%|██████████| 2670000/2670000 [00:22<00:00, 119092.15it/s]\n",
      "100%|██████████| 2670000/2670000 [00:21<00:00, 121784.55it/s]\n",
      "100%|██████████| 2670000/2670000 [00:22<00:00, 120466.69it/s]\n"
     ]
    },
    {
     "name": "stdout",
     "output_type": "stream",
     "text": [
      "Selecting best parameters...\n",
      "{'C': 10000, 'degree': 2, 'kernel': 'poly'}\n",
      "Training...\n",
      "train_acc:  0.9954545454545455\n",
      "test_acc:  0.9295880149812734\n",
      "tn fp fn tp\n",
      "638 33 61 603\n",
      "\n",
      "ABPBA\n",
      "/datasets/dsc180a-wi20-public/Malware/group_data/group_01/metapath_corpus/meta_ABPBA.cor /datasets/dsc180a-wi20-public/Malware/group_data/group_01/metapath_corpus/meta_ABPBA_tst.cor\n",
      "changed\n",
      "Creating model...\n"
     ]
    },
    {
     "name": "stderr",
     "output_type": "stream",
     "text": [
      "100%|██████████| 2670000/2670000 [00:06<00:00, 435695.99it/s]\n",
      "100%|██████████| 2670000/2670000 [00:39<00:00, 68338.44it/s]\n",
      "100%|██████████| 2670000/2670000 [00:38<00:00, 69545.19it/s]\n",
      "100%|██████████| 2670000/2670000 [00:37<00:00, 71485.40it/s]\n",
      "100%|██████████| 2670000/2670000 [00:38<00:00, 69031.01it/s]\n",
      "100%|██████████| 2670000/2670000 [00:35<00:00, 74878.72it/s]\n"
     ]
    },
    {
     "name": "stdout",
     "output_type": "stream",
     "text": [
      "Selecting best parameters...\n",
      "{'C': 10000, 'degree': 3, 'kernel': 'poly'}\n",
      "Training...\n",
      "train_acc:  0.9981818181818182\n",
      "test_acc:  0.9550561797752809\n",
      "tn fp fn tp\n",
      "661 10 50 614\n",
      "\n",
      "APBPA\n",
      "/datasets/dsc180a-wi20-public/Malware/group_data/group_01/metapath_corpus/meta_APBPA.cor /datasets/dsc180a-wi20-public/Malware/group_data/group_01/metapath_corpus/meta_APBPA_tst.cor\n",
      "changed\n",
      "Creating model...\n"
     ]
    },
    {
     "name": "stderr",
     "output_type": "stream",
     "text": [
      "100%|██████████| 2670000/2670000 [00:05<00:00, 474858.84it/s]\n",
      "100%|██████████| 2670000/2670000 [00:36<00:00, 73736.23it/s]\n",
      "100%|██████████| 2670000/2670000 [00:33<00:00, 79212.89it/s]\n",
      "100%|██████████| 2670000/2670000 [00:34<00:00, 77838.16it/s]\n",
      "100%|██████████| 2670000/2670000 [00:34<00:00, 78035.69it/s] \n",
      "100%|██████████| 2670000/2670000 [00:32<00:00, 83224.09it/s]\n"
     ]
    },
    {
     "name": "stdout",
     "output_type": "stream",
     "text": [
      "Selecting best parameters...\n",
      "{'C': 1000, 'degree': 2, 'kernel': 'poly'}\n",
      "Training...\n",
      "train_acc:  0.99\n",
      "test_acc:  0.9438202247191011\n",
      "tn fp fn tp\n",
      "652 19 56 608\n",
      "\n",
      "ABPBPBBPA\n",
      "/datasets/dsc180a-wi20-public/Malware/group_data/group_01/metapath_corpus/meta_ABPBPBBPA.cor /datasets/dsc180a-wi20-public/Malware/group_data/group_01/metapath_corpus/meta_ABPBPBBPA_tst.cor\n",
      "changed\n",
      "Creating model...\n"
     ]
    },
    {
     "name": "stderr",
     "output_type": "stream",
     "text": [
      "100%|██████████| 2670000/2670000 [00:08<00:00, 301652.95it/s]\n",
      "100%|██████████| 2670000/2670000 [01:11<00:00, 37185.72it/s]\n",
      "100%|██████████| 2670000/2670000 [01:11<00:00, 37400.79it/s]\n",
      "100%|██████████| 2670000/2670000 [01:06<00:00, 40263.02it/s]\n",
      "100%|██████████| 2670000/2670000 [01:05<00:00, 41062.28it/s]\n",
      "100%|██████████| 2670000/2670000 [01:07<00:00, 39832.55it/s]\n"
     ]
    },
    {
     "name": "stdout",
     "output_type": "stream",
     "text": [
      "Selecting best parameters...\n",
      "{'C': 1000, 'degree': 3, 'kernel': 'poly'}\n",
      "Training...\n",
      "train_acc:  0.9972727272727273\n",
      "test_acc:  0.947565543071161\n",
      "tn fp fn tp\n",
      "658 13 57 607\n",
      "\n",
      "ABABBABBBABBBBABBBBBA\n",
      "/datasets/dsc180a-wi20-public/Malware/group_data/group_01/metapath_corpus/meta_ABABBABBBABBBBABBBBBA.cor /datasets/dsc180a-wi20-public/Malware/group_data/group_01/metapath_corpus/meta_ABABBABBBABBBBABBBBBA_tst.cor\n",
      "changed\n",
      "Creating model...\n"
     ]
    },
    {
     "name": "stderr",
     "output_type": "stream",
     "text": [
      "100%|██████████| 2670000/2670000 [00:18<00:00, 146167.31it/s]\n",
      "100%|██████████| 2670000/2670000 [02:34<00:00, 17278.47it/s]\n",
      "100%|██████████| 2670000/2670000 [02:25<00:00, 18349.51it/s]\n",
      "100%|██████████| 2670000/2670000 [02:26<00:00, 18171.75it/s]\n",
      "100%|██████████| 2670000/2670000 [02:24<00:00, 18525.20it/s]\n",
      "100%|██████████| 2670000/2670000 [02:33<00:00, 17380.39it/s]\n"
     ]
    },
    {
     "name": "stdout",
     "output_type": "stream",
     "text": [
      "Selecting best parameters...\n",
      "{'C': 1, 'degree': 1, 'kernel': 'linear'}\n",
      "Training...\n",
      "train_acc:  0.9545454545454546\n",
      "test_acc:  0.9026217228464419\n",
      "tn fp fn tp\n",
      "602 69 61 603\n",
      "\n",
      "CPU times: user 1h 20min 15s, sys: 4min 45s, total: 1h 25min\n",
      "Wall time: 31min 52s\n"
     ]
    }
   ],
   "source": [
    "%%time\n",
    "metas = ('AA','ABA', 'APA', 'ABPBA','APBPA', 'ABPBPBBPA', 'ABABBABBBABBBBABBBBBA')\n",
    "for meta in metas:\n",
    "    print(meta)\n",
    "    metaPrediction.prediction(meta)"
   ]
  },
  {
   "cell_type": "code",
   "execution_count": 3,
   "metadata": {
    "scrolled": false
   },
   "outputs": [
    {
     "name": "stdout",
     "output_type": "stream",
     "text": [
      "AA\n",
      "/datasets/dsc180a-wi20-public/Malware/group_data/group_01/metapath_corpus/meta_AA_reduced.cor /datasets/dsc180a-wi20-public/Malware/group_data/group_01/metapath_corpus/meta_AA_reduced_tst.cor\n",
      "changed\n",
      "Creating model...\n"
     ]
    },
    {
     "name": "stderr",
     "output_type": "stream",
     "text": [
      "100%|██████████| 2670000/2670000 [00:02<00:00, 926378.37it/s]\n",
      "100%|██████████| 2670000/2670000 [00:15<00:00, 169217.15it/s]\n",
      "100%|██████████| 2670000/2670000 [00:15<00:00, 175275.20it/s]\n",
      "100%|██████████| 2670000/2670000 [00:15<00:00, 177506.32it/s]\n",
      "100%|██████████| 2670000/2670000 [00:14<00:00, 183604.49it/s]\n",
      "100%|██████████| 2670000/2670000 [00:14<00:00, 183590.19it/s]\n"
     ]
    },
    {
     "name": "stdout",
     "output_type": "stream",
     "text": [
      "Selecting best parameters...\n",
      "{'C': 1000, 'degree': 2, 'kernel': 'poly'}\n",
      "Training...\n",
      "train_acc:  0.9981818181818182\n",
      "test_acc:  0.9775280898876404\n",
      "tn fp fn tp\n",
      "660 11 19 645\n",
      "\n",
      "ABA\n",
      "/datasets/dsc180a-wi20-public/Malware/group_data/group_01/metapath_corpus/meta_ABA_reduced.cor /datasets/dsc180a-wi20-public/Malware/group_data/group_01/metapath_corpus/meta_ABA_reduced_tst.cor\n",
      "changed\n",
      "Creating model...\n"
     ]
    },
    {
     "name": "stderr",
     "output_type": "stream",
     "text": [
      "100%|██████████| 2670000/2670000 [00:03<00:00, 767744.85it/s]\n",
      "100%|██████████| 2670000/2670000 [00:20<00:00, 132311.40it/s]\n",
      "100%|██████████| 2670000/2670000 [00:19<00:00, 137363.31it/s]\n",
      "100%|██████████| 2670000/2670000 [00:18<00:00, 146192.42it/s]\n",
      "100%|██████████| 2670000/2670000 [00:18<00:00, 147688.23it/s]\n",
      "100%|██████████| 2670000/2670000 [00:18<00:00, 145993.92it/s]\n"
     ]
    },
    {
     "name": "stdout",
     "output_type": "stream",
     "text": [
      "Selecting best parameters...\n",
      "{'C': 10000, 'degree': 3, 'kernel': 'poly'}\n",
      "Training...\n",
      "train_acc:  1.0\n",
      "test_acc:  0.9857677902621723\n",
      "tn fp fn tp\n",
      "668 3 16 648\n",
      "\n",
      "APA\n",
      "/datasets/dsc180a-wi20-public/Malware/group_data/group_01/metapath_corpus/meta_APA_reduced.cor /datasets/dsc180a-wi20-public/Malware/group_data/group_01/metapath_corpus/meta_APA_reduced_tst.cor\n",
      "changed\n",
      "Creating model...\n"
     ]
    },
    {
     "name": "stderr",
     "output_type": "stream",
     "text": [
      "100%|██████████| 2670000/2670000 [00:03<00:00, 763935.81it/s]\n",
      "100%|██████████| 2670000/2670000 [00:20<00:00, 132358.94it/s]\n",
      "100%|██████████| 2670000/2670000 [00:18<00:00, 145933.58it/s]\n",
      "100%|██████████| 2670000/2670000 [00:18<00:00, 145558.30it/s]\n",
      "100%|██████████| 2670000/2670000 [00:18<00:00, 147172.57it/s]\n",
      "100%|██████████| 2670000/2670000 [00:18<00:00, 141097.94it/s]\n"
     ]
    },
    {
     "name": "stdout",
     "output_type": "stream",
     "text": [
      "Selecting best parameters...\n",
      "{'C': 10000, 'degree': 2, 'kernel': 'poly'}\n",
      "Training...\n",
      "train_acc:  0.9763636363636363\n",
      "test_acc:  0.6269662921348315\n",
      "tn fp fn tp\n",
      "669 2 496 168\n",
      "\n",
      "ABPBA\n",
      "/datasets/dsc180a-wi20-public/Malware/group_data/group_01/metapath_corpus/meta_ABPBA_reduced.cor /datasets/dsc180a-wi20-public/Malware/group_data/group_01/metapath_corpus/meta_ABPBA_reduced_tst.cor\n",
      "changed\n",
      "Creating model...\n"
     ]
    },
    {
     "name": "stderr",
     "output_type": "stream",
     "text": [
      "100%|██████████| 2670000/2670000 [00:04<00:00, 572916.43it/s]\n",
      "100%|██████████| 2670000/2670000 [00:27<00:00, 96941.68it/s] \n",
      "100%|██████████| 2670000/2670000 [00:26<00:00, 101894.04it/s]\n",
      "100%|██████████| 2670000/2670000 [00:27<00:00, 98773.64it/s] \n",
      "100%|██████████| 2670000/2670000 [00:26<00:00, 101036.82it/s]\n",
      "100%|██████████| 2670000/2670000 [00:28<00:00, 92936.73it/s] \n"
     ]
    },
    {
     "name": "stdout",
     "output_type": "stream",
     "text": [
      "Selecting best parameters...\n",
      "{'C': 10000, 'degree': 7, 'kernel': 'poly'}\n",
      "Training...\n",
      "train_acc:  0.9763636363636363\n",
      "test_acc:  0.49737827715355803\n",
      "tn fp fn tp\n",
      "0 671 0 664\n",
      "\n",
      "APBPA\n",
      "/datasets/dsc180a-wi20-public/Malware/group_data/group_01/metapath_corpus/meta_APBPA_reduced.cor /datasets/dsc180a-wi20-public/Malware/group_data/group_01/metapath_corpus/meta_APBPA_reduced_tst.cor\n",
      "changed\n",
      "Creating model...\n"
     ]
    },
    {
     "name": "stderr",
     "output_type": "stream",
     "text": [
      "100%|██████████| 2670000/2670000 [00:04<00:00, 619466.85it/s]\n",
      "100%|██████████| 2670000/2670000 [00:27<00:00, 98807.26it/s] \n",
      "100%|██████████| 2670000/2670000 [00:24<00:00, 109557.61it/s]\n",
      "100%|██████████| 2670000/2670000 [00:26<00:00, 101231.63it/s]\n",
      "100%|██████████| 2670000/2670000 [00:25<00:00, 106762.85it/s]\n",
      "100%|██████████| 2670000/2670000 [00:26<00:00, 101226.22it/s]\n"
     ]
    },
    {
     "name": "stdout",
     "output_type": "stream",
     "text": [
      "Selecting best parameters...\n",
      "{'C': 10000, 'degree': 2, 'kernel': 'poly'}\n",
      "Training...\n",
      "train_acc:  1.0\n",
      "test_acc:  0.5205992509363296\n",
      "tn fp fn tp\n",
      "661 10 630 34\n",
      "\n",
      "ABPBPBBPA\n",
      "/datasets/dsc180a-wi20-public/Malware/group_data/group_01/metapath_corpus/meta_ABPBPBBPA_reduced.cor /datasets/dsc180a-wi20-public/Malware/group_data/group_01/metapath_corpus/meta_ABPBPBBPA_reduced_tst.cor\n",
      "changed\n",
      "Creating model...\n"
     ]
    },
    {
     "name": "stderr",
     "output_type": "stream",
     "text": [
      "100%|██████████| 2670000/2670000 [00:05<00:00, 452958.91it/s]\n",
      "100%|██████████| 2670000/2670000 [00:41<00:00, 64060.85it/s]\n",
      "100%|██████████| 2670000/2670000 [00:40<00:00, 65419.44it/s]\n",
      "100%|██████████| 2670000/2670000 [00:40<00:00, 65405.58it/s]\n",
      "100%|██████████| 2670000/2670000 [00:40<00:00, 65878.52it/s]\n",
      "100%|██████████| 2670000/2670000 [00:41<00:00, 63736.29it/s]\n"
     ]
    },
    {
     "name": "stdout",
     "output_type": "stream",
     "text": [
      "Selecting best parameters...\n",
      "{'C': 100, 'degree': 3, 'kernel': 'poly'}\n",
      "Training...\n",
      "train_acc:  0.9990909090909091\n",
      "test_acc:  0.9026217228464419\n",
      "tn fp fn tp\n",
      "621 50 80 584\n",
      "\n",
      "ABABBABBBABBBBABBBBBA\n",
      "/datasets/dsc180a-wi20-public/Malware/group_data/group_01/metapath_corpus/meta_ABABBABBBABBBBABBBBBA_reduced.cor /datasets/dsc180a-wi20-public/Malware/group_data/group_01/metapath_corpus/meta_ABABBABBBABBBBABBBBBA_reduced_tst.cor\n",
      "changed\n",
      "Creating model...\n"
     ]
    },
    {
     "name": "stderr",
     "output_type": "stream",
     "text": [
      "100%|██████████| 2670000/2670000 [00:11<00:00, 236885.97it/s]\n",
      "100%|██████████| 2670000/2670000 [01:38<00:00, 27143.20it/s]\n",
      "100%|██████████| 2670000/2670000 [01:32<00:00, 28729.30it/s]\n",
      "100%|██████████| 2670000/2670000 [01:35<00:00, 27980.67it/s]\n",
      "100%|██████████| 2670000/2670000 [01:41<00:00, 26266.53it/s]\n",
      "100%|██████████| 2670000/2670000 [01:32<00:00, 28822.91it/s]\n"
     ]
    },
    {
     "name": "stdout",
     "output_type": "stream",
     "text": [
      "Selecting best parameters...\n",
      "{'C': 1, 'degree': 1, 'kernel': 'linear'}\n",
      "Training...\n",
      "train_acc:  0.9818181818181818\n",
      "test_acc:  0.900374531835206\n",
      "tn fp fn tp\n",
      "661 10 123 541\n",
      "\n",
      "CPU times: user 59min 23s, sys: 32.1 s, total: 59min 55s\n",
      "Wall time: 21min 49s\n"
     ]
    }
   ],
   "source": [
    "%%time\n",
    "metas = ('AA','ABA', 'APA', 'ABPBA','APBPA', 'ABPBPBBPA', 'ABABBABBBABBBBABBBBBA')\n",
    "for meta in metas:\n",
    "    print(meta)\n",
    "    metaPrediction.prediction(meta, True)"
   ]
  },
  {
   "cell_type": "markdown",
   "metadata": {},
   "source": [
    "# Other methods"
   ]
  },
  {
   "cell_type": "code",
   "execution_count": 99,
   "metadata": {
    "scrolled": false
   },
   "outputs": [
    {
     "name": "stdout",
     "output_type": "stream",
     "text": [
      "/datasets/dsc180a-wi20-public/Malware/group_data/group_01/metapath_corpus/meta_ABA.cor /datasets/dsc180a-wi20-public/Malware/group_data/group_01/metapath_corpus/meta_ABA_tst.cor\n",
      "changed\n",
      "Creating model...\n"
     ]
    },
    {
     "name": "stderr",
     "output_type": "stream",
     "text": [
      "100%|██████████| 2670000/2670000 [00:04<00:00, 647821.23it/s]\n",
      "100%|██████████| 2670000/2670000 [00:27<00:00, 97233.94it/s] \n",
      "100%|██████████| 2670000/2670000 [00:27<00:00, 97563.23it/s] \n",
      "100%|██████████| 2670000/2670000 [00:27<00:00, 98428.14it/s] \n",
      "100%|██████████| 2670000/2670000 [00:28<00:00, 94252.75it/s] \n",
      "100%|██████████| 2670000/2670000 [00:25<00:00, 102714.13it/s]\n"
     ]
    },
    {
     "name": "stdout",
     "output_type": "stream",
     "text": [
      "Selecting best parameters...\n",
      "{'C': 10000, 'degree': 2, 'kernel': 'poly'}\n",
      "Training...\n",
      "train_acc:  0.9863636363636363\n",
      "test_acc:  0.9573033707865168\n",
      "tn fp fn tp\n",
      "655 16 41 623\n",
      "\n",
      "CPU times: user 5min 32s, sys: 15 s, total: 5min 47s\n",
      "Wall time: 2min 30s\n"
     ]
    }
   ],
   "source": [
    "%%time\n",
    "model, y_train, y_test, app_vec, app_vec_tst, y_pred, svm = metaPrediction.prediction('ABA')"
   ]
  },
  {
   "cell_type": "code",
   "execution_count": 100,
   "metadata": {
    "scrolled": false
   },
   "outputs": [
    {
     "name": "stdout",
     "output_type": "stream",
     "text": [
      "/datasets/dsc180a-wi20-public/Malware/group_data/group_01/metapath_corpus/meta_ABPBA.cor /datasets/dsc180a-wi20-public/Malware/group_data/group_01/metapath_corpus/meta_ABPBA_tst.cor\n",
      "changed\n",
      "Creating model...\n"
     ]
    },
    {
     "name": "stderr",
     "output_type": "stream",
     "text": [
      "100%|██████████| 2670000/2670000 [00:05<00:00, 459231.48it/s]\n",
      "100%|██████████| 2670000/2670000 [00:38<00:00, 69893.91it/s]\n",
      "100%|██████████| 2670000/2670000 [00:36<00:00, 73030.58it/s]\n",
      "100%|██████████| 2670000/2670000 [00:38<00:00, 69952.78it/s]\n",
      "100%|██████████| 2670000/2670000 [00:37<00:00, 72048.22it/s]\n",
      "100%|██████████| 2670000/2670000 [00:37<00:00, 70572.28it/s]\n"
     ]
    },
    {
     "name": "stdout",
     "output_type": "stream",
     "text": [
      "Selecting best parameters...\n",
      "{'C': 10000, 'degree': 4, 'kernel': 'poly'}\n",
      "Training...\n",
      "train_acc:  0.990909090909091\n",
      "test_acc:  0.946067415730337\n",
      "tn fp fn tp\n",
      "659 12 60 604\n",
      "\n",
      "CPU times: user 8min 19s, sys: 24.4 s, total: 8min 43s\n",
      "Wall time: 3min 24s\n"
     ]
    }
   ],
   "source": [
    "%%time\n",
    "model, y_train, y_test, app_vec, app_vec_tst, y_pred, svm = metaPrediction.prediction('ABPBA')"
   ]
  },
  {
   "cell_type": "code",
   "execution_count": 4,
   "metadata": {
    "scrolled": true
   },
   "outputs": [
    {
     "name": "stdout",
     "output_type": "stream",
     "text": [
      "/datasets/dsc180a-wi20-public/Malware/group_data/group_01/metapath_corpus/meta_ABABBABBBABBBBABBBBBA.cor /datasets/dsc180a-wi20-public/Malware/group_data/group_01/metapath_corpus/meta_ABABBABBBABBBBABBBBBA_tst.cor\n",
      "changed\n",
      "Creating model...\n"
     ]
    },
    {
     "name": "stderr",
     "output_type": "stream",
     "text": [
      "100%|██████████| 2670000/2670000 [00:17<00:00, 155436.47it/s]\n",
      "100%|██████████| 2670000/2670000 [02:07<00:00, 20989.56it/s]\n",
      "100%|██████████| 2670000/2670000 [02:04<00:00, 21509.12it/s]\n",
      "100%|██████████| 2670000/2670000 [02:28<00:00, 18001.21it/s]\n"
     ]
    },
    {
     "name": "stdout",
     "output_type": "stream",
     "text": [
      "Selecting best parameters...\n",
      "{'C': 1, 'degree': 1, 'kernel': 'linear'}\n",
      "Training...\n",
      "train_acc:  0.96\n",
      "test_acc:  0.9063670411985019\n",
      "tn fp fn tp\n",
      "613 58 67 597\n",
      "\n",
      "CPU times: user 33min 3s, sys: 1min 20s, total: 34min 24s\n",
      "Wall time: 11min 53s\n"
     ]
    }
   ],
   "source": [
    "%%time\n",
    "model, y_train, y_test, app_vec, app_vec_tst, y_pred, svm = metaPrediction.prediction('ABABBABBBABBBBABBBBBA')"
   ]
  },
  {
   "cell_type": "code",
   "execution_count": 5,
   "metadata": {},
   "outputs": [
    {
     "name": "stdout",
     "output_type": "stream",
     "text": [
      "1.0 \n",
      "\n",
      "0.6771535580524345\n",
      "CPU times: user 430 ms, sys: 28.9 ms, total: 459 ms\n",
      "Wall time: 456 ms\n"
     ]
    }
   ],
   "source": [
    "%%time\n",
    "from sklearn.tree import DecisionTreeClassifier\n",
    "clf = DecisionTreeClassifier(random_state=0)\n",
    "clf.fit(app_vec, y_train)\n",
    "print(clf.score(app_vec, y_train),'\\n')\n",
    "print(clf.score(app_vec_tst, y_test))"
   ]
  },
  {
   "cell_type": "code",
   "execution_count": 8,
   "metadata": {
    "scrolled": true
   },
   "outputs": [
    {
     "name": "stdout",
     "output_type": "stream",
     "text": [
      "CPU times: user 953 ms, sys: 574 ms, total: 1.53 s\n",
      "Wall time: 47.7 s\n"
     ]
    },
    {
     "data": {
      "text/plain": [
       "{'algorithm': 'auto', 'n_neighbors': 2}"
      ]
     },
     "execution_count": 8,
     "metadata": {},
     "output_type": "execute_result"
    }
   ],
   "source": [
    "%%time\n",
    "from sklearn.neighbors import KNeighborsClassifier\n",
    "param_grid = {'n_neighbors': np.arange(10)+1, 'algorithm':['auto', 'ball_tree', 'kd_tree', 'brute']}\n",
    "neigh = KNeighborsClassifier(n_neighbors=5)\n",
    "clf = GridSearchCV(neigh, param_grid, cv=5, return_train_score=True, iid=False, n_jobs=-1)\n",
    "best = clf.fit(app_vec, y_train).best_params_\n",
    "best"
   ]
  },
  {
   "cell_type": "code",
   "execution_count": 9,
   "metadata": {},
   "outputs": [
    {
     "name": "stdout",
     "output_type": "stream",
     "text": [
      "0.9154545454545454\n",
      "0.7820224719101123\n",
      "CPU times: user 2.47 s, sys: 40 ms, total: 2.51 s\n",
      "Wall time: 2.5 s\n"
     ]
    }
   ],
   "source": [
    "%%time\n",
    "from sklearn.neighbors import KNeighborsClassifier\n",
    "neigh = KNeighborsClassifier(n_neighbors=2, algorithm='auto')\n",
    "neigh.fit(app_vec, y_train)\n",
    "print(neigh.score(app_vec, y_train))\n",
    "print(neigh.score(app_vec_tst, y_test))"
   ]
  },
  {
   "cell_type": "code",
   "execution_count": 15,
   "metadata": {},
   "outputs": [],
   "source": [
    "from sklearn.manifold import TSNE\n",
    "import matplotlib.pyplot as plt\n",
    "%matplotlib inline\n",
    "\n",
    "def tsne_plot(model):\n",
    "    \"Creates and TSNE model and plots it\"\n",
    "    embs = {}\n",
    "\n",
    "    for word in model.wv.vocab:\n",
    "        if 'api' in word: continue\n",
    "        embs[word] = model.wv[word]\n",
    "    \n",
    "    tsne_model = TSNE(n_components=2, random_state=0)\n",
    "    new_values = tsne_model.fit_transform(list(embs.values()))\n",
    "\n",
    "    token_coor = dict(zip(embs.keys(), new_values))\n",
    "\n",
    "    plt.figure(figsize=(16, 12))\n",
    "    cycle = plt.rcParams['axes.prop_cycle'].by_key()['color']\n",
    "\n",
    "    for token, coor in token_coor.items():\n",
    "        x, y = coor\n",
    "        label = meta_tr[meta_tr.app_id == token].label.item()\n",
    "        color = cycle[0] if label == 'class1' else cycle[1]\n",
    "        plt.scatter(x, y, c=color, alpha=0.8)\n",
    "# #         plt.annotate(labels[i],\n",
    "# #                      xy=(x[i], y[i]),\n",
    "# #                      xytext=(5, 2),\n",
    "# #                      textcoords='offset points',\n",
    "# #                      ha='right',\n",
    "# #                      va='bottom')\n",
    "    plt.show()"
   ]
  },
  {
   "cell_type": "code",
   "execution_count": 18,
   "metadata": {},
   "outputs": [
    {
     "name": "stderr",
     "output_type": "stream",
     "text": [
      "/opt/conda/lib/python3.7/site-packages/ipykernel_launcher.py:23: FutureWarning: `item` has been deprecated and will be removed in a future version\n"
     ]
    },
    {
     "ename": "ValueError",
     "evalue": "can only convert an array of size 1 to a Python scalar",
     "output_type": "error",
     "traceback": [
      "\u001b[0;31m---------------------------------------------------------------------------\u001b[0m",
      "\u001b[0;31mValueError\u001b[0m                                Traceback (most recent call last)",
      "\u001b[0;32m<timed exec>\u001b[0m in \u001b[0;36m<module>\u001b[0;34m\u001b[0m\n",
      "\u001b[0;32m<ipython-input-15-cc82c9e4505d>\u001b[0m in \u001b[0;36mtsne_plot\u001b[0;34m(model)\u001b[0m\n\u001b[1;32m     21\u001b[0m     \u001b[0;32mfor\u001b[0m \u001b[0mtoken\u001b[0m\u001b[0;34m,\u001b[0m \u001b[0mcoor\u001b[0m \u001b[0;32min\u001b[0m \u001b[0mtoken_coor\u001b[0m\u001b[0;34m.\u001b[0m\u001b[0mitems\u001b[0m\u001b[0;34m(\u001b[0m\u001b[0;34m)\u001b[0m\u001b[0;34m:\u001b[0m\u001b[0;34m\u001b[0m\u001b[0;34m\u001b[0m\u001b[0m\n\u001b[1;32m     22\u001b[0m         \u001b[0mx\u001b[0m\u001b[0;34m,\u001b[0m \u001b[0my\u001b[0m \u001b[0;34m=\u001b[0m \u001b[0mcoor\u001b[0m\u001b[0;34m\u001b[0m\u001b[0;34m\u001b[0m\u001b[0m\n\u001b[0;32m---> 23\u001b[0;31m         \u001b[0mlabel\u001b[0m \u001b[0;34m=\u001b[0m \u001b[0mmeta_tr\u001b[0m\u001b[0;34m[\u001b[0m\u001b[0mmeta_tr\u001b[0m\u001b[0;34m.\u001b[0m\u001b[0mapp_id\u001b[0m \u001b[0;34m==\u001b[0m \u001b[0mtoken\u001b[0m\u001b[0;34m]\u001b[0m\u001b[0;34m.\u001b[0m\u001b[0mlabel\u001b[0m\u001b[0;34m.\u001b[0m\u001b[0mitem\u001b[0m\u001b[0;34m(\u001b[0m\u001b[0;34m)\u001b[0m\u001b[0;34m\u001b[0m\u001b[0;34m\u001b[0m\u001b[0m\n\u001b[0m\u001b[1;32m     24\u001b[0m         \u001b[0mcolor\u001b[0m \u001b[0;34m=\u001b[0m \u001b[0mcycle\u001b[0m\u001b[0;34m[\u001b[0m\u001b[0;36m0\u001b[0m\u001b[0;34m]\u001b[0m \u001b[0;32mif\u001b[0m \u001b[0mlabel\u001b[0m \u001b[0;34m==\u001b[0m \u001b[0;34m'class1'\u001b[0m \u001b[0;32melse\u001b[0m \u001b[0mcycle\u001b[0m\u001b[0;34m[\u001b[0m\u001b[0;36m1\u001b[0m\u001b[0;34m]\u001b[0m\u001b[0;34m\u001b[0m\u001b[0;34m\u001b[0m\u001b[0m\n\u001b[1;32m     25\u001b[0m         \u001b[0mplt\u001b[0m\u001b[0;34m.\u001b[0m\u001b[0mscatter\u001b[0m\u001b[0;34m(\u001b[0m\u001b[0mx\u001b[0m\u001b[0;34m,\u001b[0m \u001b[0my\u001b[0m\u001b[0;34m,\u001b[0m \u001b[0mc\u001b[0m\u001b[0;34m=\u001b[0m\u001b[0mcolor\u001b[0m\u001b[0;34m,\u001b[0m \u001b[0malpha\u001b[0m\u001b[0;34m=\u001b[0m\u001b[0;36m0.8\u001b[0m\u001b[0;34m)\u001b[0m\u001b[0;34m\u001b[0m\u001b[0;34m\u001b[0m\u001b[0m\n",
      "\u001b[0;32m/opt/conda/lib/python3.7/site-packages/pandas/core/base.py\u001b[0m in \u001b[0;36mitem\u001b[0;34m(self)\u001b[0m\n\u001b[1;32m    738\u001b[0m             \u001b[0mstacklevel\u001b[0m\u001b[0;34m=\u001b[0m\u001b[0;36m2\u001b[0m\u001b[0;34m,\u001b[0m\u001b[0;34m\u001b[0m\u001b[0;34m\u001b[0m\u001b[0m\n\u001b[1;32m    739\u001b[0m         )\n\u001b[0;32m--> 740\u001b[0;31m         \u001b[0;32mreturn\u001b[0m \u001b[0mself\u001b[0m\u001b[0;34m.\u001b[0m\u001b[0mvalues\u001b[0m\u001b[0;34m.\u001b[0m\u001b[0mitem\u001b[0m\u001b[0;34m(\u001b[0m\u001b[0;34m)\u001b[0m\u001b[0;34m\u001b[0m\u001b[0;34m\u001b[0m\u001b[0m\n\u001b[0m\u001b[1;32m    741\u001b[0m \u001b[0;34m\u001b[0m\u001b[0m\n\u001b[1;32m    742\u001b[0m     \u001b[0;34m@\u001b[0m\u001b[0mproperty\u001b[0m\u001b[0;34m\u001b[0m\u001b[0;34m\u001b[0m\u001b[0m\n",
      "\u001b[0;31mValueError\u001b[0m: can only convert an array of size 1 to a Python scalar"
     ]
    },
    {
     "data": {
      "image/png": "[encoded data removed]",
      "text/plain": [
       "<Figure size 1152x864 with 1 Axes>"
      ]
     },
     "metadata": {
      "needs_background": "light"
     },
     "output_type": "display_data"
    }
   ],
   "source": [
    "%%time\n",
    "import os\n",
    "path = '/datasets/dsc180a-wi20-public/Malware/group_data/group_01/pipeline_output'\n",
    "meta_tr = pd.read_csv(os.path.join(path, 'meta_tr.csv'), index_col=0)\n",
    "meta_tr['app_id'] = [f'app_{i}' for i in range(meta_tr.shape[0])]\n",
    "tsne_plot(model)"
   ]
  },
  {
   "cell_type": "code",
   "execution_count": null,
   "metadata": {},
   "outputs": [],
   "source": []
  }
 ],
 "metadata": {
  "kernelspec": {
   "display_name": "Python 3",
   "language": "python",
   "name": "python3"
  },
  "language_info": {
   "codemirror_mode": {
    "name": "ipython",
    "version": 3
   },
   "file_extension": ".py",
   "mimetype": "text/x-python",
   "name": "python",
   "nbconvert_exporter": "python",
   "pygments_lexer": "ipython3",
   "version": "3.7.3"
  }
 },
 "nbformat": 4,
 "nbformat_minor": 2
}
