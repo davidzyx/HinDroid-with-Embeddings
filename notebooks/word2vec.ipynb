{
 "cells": [
  {
   "cell_type": "code",
   "execution_count": null,
   "metadata": {},
   "outputs": [],
   "source": [
    "import json\n",
    "from scipy import sparse\n",
    "import numpy as np\n",
    "from gensim.test.utils import datapath\n",
    "from gensim import utils\n",
    "import gensim.models\n",
    "from tqdm import tqdm\n",
    "from node2vec import Node2Vec\n",
    "import networkx as nx\n",
    "from itertools import cycle\n",
    "from sklearn.decomposition import IncrementalPCA    # inital reduction\n",
    "from sklearn.manifold import TSNE                   # final reduction\n",
    "import matplotlib.pyplot as plt\n",
    "from sklearn import svm\n",
    "from plotly.offline import init_notebook_mode, iplot, plot\n",
    "import plotly.graph_objs as go\n",
    "from plotly import tools\n",
    "from sklearn.ensemble import (RandomForestClassifier, ExtraTreesClassifier,\n",
    "                              AdaBoostClassifier)\n",
    "from sklearn.tree import DecisionTreeClassifier"
   ]
  },
  {
   "cell_type": "code",
   "execution_count": null,
   "metadata": {},
   "outputs": [],
   "source": [
    "%load_ext autoreload\n",
    "\n",
    "%autoreload 2"
   ]
  },
  {
   "cell_type": "code",
   "execution_count": null,
   "metadata": {},
   "outputs": [],
   "source": [
    "import sys\n",
    "sys.path.insert(0, '../')"
   ]
  },
  {
   "cell_type": "code",
   "execution_count": null,
   "metadata": {},
   "outputs": [],
   "source": [
    "#!pip install gensim --user\n",
    "#!pip install plotly --user"
   ]
  },
  {
   "cell_type": "code",
   "execution_count": null,
   "metadata": {},
   "outputs": [],
   "source": [
    "from src.features.w2v import word2vec"
   ]
  },
  {
   "cell_type": "code",
   "execution_count": null,
   "metadata": {},
   "outputs": [],
   "source": [
    "matrix_path = \"/datasets/dsc180a-wi20-public/Malware/group_data/group_01/matrix\"\n",
    "corpus_path = \"../data/processed/ABPBA.cor\""
   ]
  },
  {
   "cell_type": "code",
   "execution_count": null,
   "metadata": {},
   "outputs": [],
   "source": [
    "%%time\n",
    "model = word2vec(matrix_path, corpus_path)\n",
    "model.load_matrix()"
   ]
  },
  {
   "cell_type": "code",
   "execution_count": null,
   "metadata": {},
   "outputs": [],
   "source": [
    "%%time\n",
    "#Uncomment this to generate corpus\n",
    "#model.generate_corpus(\"APA\", 10, 10)"
   ]
  },
  {
   "cell_type": "code",
   "execution_count": null,
   "metadata": {},
   "outputs": [],
   "source": [
    "%%time\n",
    "model.create_model()"
   ]
  },
  {
   "cell_type": "code",
   "execution_count": null,
   "metadata": {},
   "outputs": [],
   "source": [
    "%%time\n",
    "model.predict_embeddings()"
   ]
  },
  {
   "cell_type": "code",
   "execution_count": null,
   "metadata": {},
   "outputs": [],
   "source": [
    "# %%time\n",
    "# for i in range(len(model.test_labels)):\n",
    "#     model.model.wv[model.test_labels[i]] = model.test_embeddings[i] "
   ]
  },
  {
   "cell_type": "code",
   "execution_count": null,
   "metadata": {},
   "outputs": [],
   "source": [
    "# Change train predict -> generate embedding\n",
    "# add another method on traiing svc and get ready for plotting\n",
    "# try using gensim lockdown to train, generate corpus and see how is the embedding\n",
    "# Try david's corpus text and plot\n",
    "# Plot hindroid classification on the same graph\n",
    "\n",
    "# find out the app that are misclassified in hindroid, are they the same as those below in the graph that look like benign\n",
    "\n",
    "# Try to color the different types of benign and see how is it related to the different types of malware\n",
    "\n",
    "# Try to plot the API corresponding to those malware that look like benign, see which API play a big role"
   ]
  },
  {
   "cell_type": "code",
   "execution_count": null,
   "metadata": {},
   "outputs": [],
   "source": [
    "%%time\n",
    "model.plot_embeddings()"
   ]
  },
  {
   "cell_type": "code",
   "execution_count": null,
   "metadata": {},
   "outputs": [],
   "source": [
    "%%time\n",
    "tsne = TSNE(n_components=2, random_state=0)\n",
    "\n",
    "train_X = tsne.fit_transform(np.array(model.train_embeddings))\n",
    "train_Y = np.array(model.train_labels)\n",
    "\n",
    "test_X = tsne.fit_transform(np.array(model.test_embeddings))\n",
    "test_Y = np.array(model.test_labels)\n",
    "\n",
    "X = np.vstack((np.array(model.train_embeddings),np.array(model.test_embeddings)))\n",
    "X = tsne.fit_transform(X)\n",
    "\n",
    "Y = np.array(model.train_labels + model.test_labels)"
   ]
  },
  {
   "cell_type": "code",
   "execution_count": null,
   "metadata": {},
   "outputs": [],
   "source": [
    "%%time\n",
    "h = .02  # step size in the mesh\n",
    "\n",
    "C = 1.0  # SVM regularization parameter\n",
    "\n",
    "# create a mesh to plot in\n",
    "x_min, x_max = train_X[:, 0].min() - 1, train_X[:, 0].max() + 1\n",
    "y_min, y_max = train_X[:, 1].min() - 1, train_X[:, 1].max() + 1\n",
    "xx, yy = np.meshgrid(np.arange(x_min, x_max, h),\n",
    "                     np.arange(y_min, y_max, h))"
   ]
  },
  {
   "cell_type": "code",
   "execution_count": null,
   "metadata": {},
   "outputs": [],
   "source": [
    "%%time\n",
    "svc = svm.SVC(kernel='linear', C=C).fit(train_X, train_Y)\n",
    "\n",
    "Z = svc.predict(np.c_[xx.ravel(), yy.ravel()])\n",
    "\n",
    "# Put the result into a color plot\n",
    "Z = Z.reshape(xx.shape)\n",
    "\n",
    "y_ = np.arange(y_min, y_max, h)\n",
    "\n",
    "fig = tools.make_subplots(rows=1, cols=2,\n",
    "                          subplot_titles=(\"Random Forest (Depth = 4)\",\n",
    "                                          \"Random Forest (Depth = 50)\")\n",
    "                         )\n",
    "\n",
    "trace = go.Heatmap(x=xx[0], y=y_, z=Z,\n",
    "                  colorscale=[[0, '#8DE5F3'], [1, '#EA937A']],\n",
    "                  showscale=True)\n",
    "\n",
    "trace1 = go.Scatter(x=X.T[0].T, y=X.T[1].T, mode='markers', text=Y, \n",
    "                   marker=dict(size=5, color=Y))\n",
    "\n",
    "fig.append_trace(trace, 1, 1)\n",
    "fig.append_trace(trace1, 1, 1)\n",
    "\n",
    "data = [trace, trace1]\n",
    "\n",
    "init_notebook_mode(connected=True)\n",
    "iplot(data, filename='word-embedding-plot')"
   ]
  },
  {
   "cell_type": "code",
   "execution_count": null,
   "metadata": {},
   "outputs": [],
   "source": [
    "%%time\n",
    "svc = svm.SVC(kernel='linear', C=C).fit(train_X, train_Y)\n",
    "\n",
    "Z = svc.predict(np.c_[xx.ravel(), yy.ravel()])\n",
    "\n",
    "# Put the result into a color plot\n",
    "Z = Z.reshape(xx.shape)\n",
    "\n",
    "y_ = np.arange(y_min, y_max, h)\n",
    "\n",
    "fig = tools.make_subplots(rows=1, cols=2,\n",
    "                          subplot_titles=(\"Random Forest (Depth = 4)\",\n",
    "                                          \"Random Forest (Depth = 50)\")\n",
    "                         )\n",
    "\n",
    "trace = go.Heatmap(x=xx[0], y=y_, z=Z,\n",
    "                  colorscale=[[0, '#8DE5F3'], [1, '#EA937A']],\n",
    "                  showscale=True)\n",
    "\n",
    "trace1 = go.Scatter(x=X.T[0].T, y=X.T[1].T, mode='markers', text=Y, \n",
    "                   marker=dict(size=5, color=Y))\n",
    "\n",
    "fig.append_trace(trace, 1, 1)\n",
    "fig.append_trace(trace1, 1, 1)\n",
    "\n",
    "data = [trace, trace1]\n",
    "\n",
    "init_notebook_mode(connected=True)\n",
    "iplot(data, filename='word-embedding-plot')"
   ]
  },
  {
   "cell_type": "code",
   "execution_count": null,
   "metadata": {},
   "outputs": [],
   "source": [
    "%%time\n",
    "rbf_svc = svm.SVC(kernel='rbf', gamma=0.7, C=C).fit(train_X, train_Y)\n",
    "\n",
    "Z = rbf_svc.predict(np.c_[xx.ravel(), yy.ravel()])\n",
    "\n",
    "# Put the result into a color plot\n",
    "Z = Z.reshape(xx.shape)\n",
    "\n",
    "y_ = np.arange(y_min, y_max, h)\n",
    "\n",
    "fig = tools.make_subplots(rows=1, cols=2,\n",
    "                          subplot_titles=(\"Random Forest (Depth = 4)\",\n",
    "                                          \"Random Forest (Depth = 50)\")\n",
    "                         )\n",
    "\n",
    "trace = go.Heatmap(x=xx[0], y=y_, z=Z,\n",
    "                  colorscale=[[0, 'green'], [1, 'red']],\n",
    "                  showscale=True)\n",
    "\n",
    "trace1 = go.Scatter(x=X.T[0].T, y=X.T[1].T, mode='markers', text=Y, \n",
    "                   marker=dict(size=5, color=Y))\n",
    "\n",
    "fig.append_trace(trace, 1, 1)\n",
    "fig.append_trace(trace1, 1, 1)\n",
    "\n",
    "data = [trace, trace1]\n",
    "\n",
    "init_notebook_mode(connected=True)\n",
    "iplot(data, filename='word-embedding-plot')"
   ]
  },
  {
   "cell_type": "code",
   "execution_count": null,
   "metadata": {},
   "outputs": [],
   "source": [
    "%%time\n",
    "poly_svc = svm.SVC(kernel='poly', degree=3, C=C).fit(X, Y)"
   ]
  },
  {
   "cell_type": "code",
   "execution_count": null,
   "metadata": {},
   "outputs": [],
   "source": [
    "%%time\n",
    "lin_svc = svm.LinearSVC(C=C).fit(X, Y)"
   ]
  },
  {
   "cell_type": "code",
   "execution_count": null,
   "metadata": {},
   "outputs": [],
   "source": []
  },
  {
   "cell_type": "code",
   "execution_count": null,
   "metadata": {},
   "outputs": [],
   "source": [
    "%%time\n",
    "\n",
    "Z = lin_svc.predict(np.c_[xx.ravel(), yy.ravel()])\n",
    "\n",
    "# Put the result into a color plot\n",
    "Z = Z.reshape(xx.shape)\n",
    "\n",
    "y_ = np.arange(y_min, y_max, h)\n",
    "\n",
    "fig = tools.make_subplots(rows=1, cols=2,\n",
    "                          subplot_titles=(\"Random Forest (Depth = 4)\",\n",
    "                                          \"Random Forest (Depth = 50)\")\n",
    "                         )\n",
    "\n",
    "trace = go.Heatmap(x=xx[0], y=y_, z=Z,\n",
    "                  colorscale=[[0, 'green'], [1, 'red']],\n",
    "                  showscale=True)\n",
    "\n",
    "trace1 = go.Scatter(x=X.T[0].T, y=X.T[1].T, mode='markers', text=Y, \n",
    "                   marker=dict(size=5, color=Y))\n",
    "\n",
    "fig.append_trace(trace, 1, 1)\n",
    "fig.append_trace(trace1, 1, 1)\n",
    "\n",
    "data = [trace, trace1]\n",
    "\n",
    "init_notebook_mode(connected=True)\n",
    "iplot(data, filename='word-embedding-plot')"
   ]
  },
  {
   "cell_type": "code",
   "execution_count": null,
   "metadata": {},
   "outputs": [],
   "source": [
    "%%time\n"
   ]
  },
  {
   "cell_type": "code",
   "execution_count": null,
   "metadata": {},
   "outputs": [],
   "source": [
    "%%time\n",
    "\n",
    "Z = poly_svc.predict(np.c_[xx.ravel(), yy.ravel()])\n",
    "\n",
    "# Put the result into a color plot\n",
    "Z = Z.reshape(xx.shape)\n",
    "\n",
    "y_ = np.arange(y_min, y_max, h)\n",
    "\n",
    "fig = tools.make_subplots(rows=1, cols=2,\n",
    "                          subplot_titles=(\"Random Forest (Depth = 4)\",\n",
    "                                          \"Random Forest (Depth = 50)\")\n",
    "                         )\n",
    "\n",
    "trace = go.Heatmap(x=xx[0], y=y_, z=Z,\n",
    "                  colorscale=[[0, 'green'], [1, 'red']],\n",
    "                  showscale=True)\n",
    "\n",
    "trace1 = go.Scatter(x=X.T[0].T, y=X.T[1].T, mode='markers', text=Y, \n",
    "                   marker=dict(size=5, color=Y))\n",
    "\n",
    "fig.append_trace(trace, 1, 1)\n",
    "fig.append_trace(trace1, 1, 1)\n",
    "\n",
    "data = [trace, trace1]\n",
    "\n",
    "init_notebook_mode(connected=True)\n",
    "iplot(data, filename='word-embedding-plot')"
   ]
  },
  {
   "cell_type": "code",
   "execution_count": null,
   "metadata": {},
   "outputs": [],
   "source": []
  },
  {
   "cell_type": "code",
   "execution_count": null,
   "metadata": {},
   "outputs": [],
   "source": []
  }
 ],
 "metadata": {
  "kernelspec": {
   "display_name": "Python 3",
   "language": "python",
   "name": "python3"
  },
  "language_info": {
   "codemirror_mode": {
    "name": "ipython",
    "version": 3
   },
   "file_extension": ".py",
   "mimetype": "text/x-python",
   "name": "python",
   "nbconvert_exporter": "python",
   "pygments_lexer": "ipython3",
   "version": "3.7.3"
  }
 },
 "nbformat": 4,
 "nbformat_minor": 2
}
